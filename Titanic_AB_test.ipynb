{
 "cells": [
  {
   "cell_type": "markdown",
   "id": "c871f866-fd79-4831-aa04-0e1d960520b5",
   "metadata": {
    "tags": []
   },
   "source": [
    "<h2><strong> Titanic </strong><h2>\n",
    "    <h3> A/B Test of an age of survivors</h3>\n",
    "    <p>The purpose of this research is to find out if an age influences the probability of survival on a board of Titanic.<p>"
   ]
  },
  {
   "cell_type": "markdown",
   "id": "7b704637-cea1-4a69-9fb0-12a89e30171d",
   "metadata": {},
   "source": [
    "<p>First of all, let's upload some important classes and the database</p>"
   ]
  },
  {
   "cell_type": "code",
   "execution_count": 322,
   "id": "dcf5a762-8ae6-4aaa-b284-51b8226b3ad7",
   "metadata": {},
   "outputs": [
    {
     "data": {
      "text/html": [
       "<div>\n",
       "<style scoped>\n",
       "    .dataframe tbody tr th:only-of-type {\n",
       "        vertical-align: middle;\n",
       "    }\n",
       "\n",
       "    .dataframe tbody tr th {\n",
       "        vertical-align: top;\n",
       "    }\n",
       "\n",
       "    .dataframe thead th {\n",
       "        text-align: right;\n",
       "    }\n",
       "</style>\n",
       "<table border=\"1\" class=\"dataframe\">\n",
       "  <thead>\n",
       "    <tr style=\"text-align: right;\">\n",
       "      <th></th>\n",
       "      <th>PassengerID</th>\n",
       "      <th>Name</th>\n",
       "      <th>PClass</th>\n",
       "      <th>Age</th>\n",
       "      <th>Sex</th>\n",
       "      <th>Survived</th>\n",
       "      <th>SexCode</th>\n",
       "    </tr>\n",
       "  </thead>\n",
       "  <tbody>\n",
       "    <tr>\n",
       "      <th>0</th>\n",
       "      <td>1</td>\n",
       "      <td>Allen, Miss Elisabeth Walton</td>\n",
       "      <td>1st</td>\n",
       "      <td>29.00</td>\n",
       "      <td>female</td>\n",
       "      <td>1</td>\n",
       "      <td>1</td>\n",
       "    </tr>\n",
       "    <tr>\n",
       "      <th>1</th>\n",
       "      <td>2</td>\n",
       "      <td>Allison, Miss Helen Loraine</td>\n",
       "      <td>1st</td>\n",
       "      <td>2.00</td>\n",
       "      <td>female</td>\n",
       "      <td>0</td>\n",
       "      <td>1</td>\n",
       "    </tr>\n",
       "    <tr>\n",
       "      <th>2</th>\n",
       "      <td>3</td>\n",
       "      <td>Allison, Mr Hudson Joshua Creighton</td>\n",
       "      <td>1st</td>\n",
       "      <td>30.00</td>\n",
       "      <td>male</td>\n",
       "      <td>0</td>\n",
       "      <td>0</td>\n",
       "    </tr>\n",
       "    <tr>\n",
       "      <th>3</th>\n",
       "      <td>4</td>\n",
       "      <td>Allison, Mrs Hudson JC (Bessie Waldo Daniels)</td>\n",
       "      <td>1st</td>\n",
       "      <td>25.00</td>\n",
       "      <td>female</td>\n",
       "      <td>0</td>\n",
       "      <td>1</td>\n",
       "    </tr>\n",
       "    <tr>\n",
       "      <th>4</th>\n",
       "      <td>5</td>\n",
       "      <td>Allison, Master Hudson Trevor</td>\n",
       "      <td>1st</td>\n",
       "      <td>0.92</td>\n",
       "      <td>male</td>\n",
       "      <td>1</td>\n",
       "      <td>0</td>\n",
       "    </tr>\n",
       "    <tr>\n",
       "      <th>...</th>\n",
       "      <td>...</td>\n",
       "      <td>...</td>\n",
       "      <td>...</td>\n",
       "      <td>...</td>\n",
       "      <td>...</td>\n",
       "      <td>...</td>\n",
       "      <td>...</td>\n",
       "    </tr>\n",
       "    <tr>\n",
       "      <th>1308</th>\n",
       "      <td>1309</td>\n",
       "      <td>Zakarian, Mr Artun</td>\n",
       "      <td>3rd</td>\n",
       "      <td>27.00</td>\n",
       "      <td>male</td>\n",
       "      <td>0</td>\n",
       "      <td>0</td>\n",
       "    </tr>\n",
       "    <tr>\n",
       "      <th>1309</th>\n",
       "      <td>1310</td>\n",
       "      <td>Zakarian, Mr Maprieder</td>\n",
       "      <td>3rd</td>\n",
       "      <td>26.00</td>\n",
       "      <td>male</td>\n",
       "      <td>0</td>\n",
       "      <td>0</td>\n",
       "    </tr>\n",
       "    <tr>\n",
       "      <th>1310</th>\n",
       "      <td>1311</td>\n",
       "      <td>Zenni, Mr Philip</td>\n",
       "      <td>3rd</td>\n",
       "      <td>22.00</td>\n",
       "      <td>male</td>\n",
       "      <td>0</td>\n",
       "      <td>0</td>\n",
       "    </tr>\n",
       "    <tr>\n",
       "      <th>1311</th>\n",
       "      <td>1312</td>\n",
       "      <td>Lievens, Mr Rene</td>\n",
       "      <td>3rd</td>\n",
       "      <td>24.00</td>\n",
       "      <td>male</td>\n",
       "      <td>0</td>\n",
       "      <td>0</td>\n",
       "    </tr>\n",
       "    <tr>\n",
       "      <th>1312</th>\n",
       "      <td>1313</td>\n",
       "      <td>Zimmerman, Leo</td>\n",
       "      <td>3rd</td>\n",
       "      <td>29.00</td>\n",
       "      <td>male</td>\n",
       "      <td>0</td>\n",
       "      <td>0</td>\n",
       "    </tr>\n",
       "  </tbody>\n",
       "</table>\n",
       "<p>1313 rows × 7 columns</p>\n",
       "</div>"
      ],
      "text/plain": [
       "      PassengerID                                           Name PClass  \\\n",
       "0               1                   Allen, Miss Elisabeth Walton    1st   \n",
       "1               2                    Allison, Miss Helen Loraine    1st   \n",
       "2               3            Allison, Mr Hudson Joshua Creighton    1st   \n",
       "3               4  Allison, Mrs Hudson JC (Bessie Waldo Daniels)    1st   \n",
       "4               5                  Allison, Master Hudson Trevor    1st   \n",
       "...           ...                                            ...    ...   \n",
       "1308         1309                             Zakarian, Mr Artun    3rd   \n",
       "1309         1310                         Zakarian, Mr Maprieder    3rd   \n",
       "1310         1311                               Zenni, Mr Philip    3rd   \n",
       "1311         1312                               Lievens, Mr Rene    3rd   \n",
       "1312         1313                                 Zimmerman, Leo    3rd   \n",
       "\n",
       "        Age     Sex  Survived  SexCode  \n",
       "0     29.00  female         1        1  \n",
       "1      2.00  female         0        1  \n",
       "2     30.00    male         0        0  \n",
       "3     25.00  female         0        1  \n",
       "4      0.92    male         1        0  \n",
       "...     ...     ...       ...      ...  \n",
       "1308  27.00    male         0        0  \n",
       "1309  26.00    male         0        0  \n",
       "1310  22.00    male         0        0  \n",
       "1311  24.00    male         0        0  \n",
       "1312  29.00    male         0        0  \n",
       "\n",
       "[1313 rows x 7 columns]"
      ]
     },
     "execution_count": 322,
     "metadata": {},
     "output_type": "execute_result"
    }
   ],
   "source": [
    "import numpy as np\n",
    "import pandas as pd\n",
    "import scipy.stats as stats\n",
    "import statsmodels.stats.api as sms\n",
    "import matplotlib as mpl\n",
    "import matplotlib.pyplot as plt\n",
    "import seaborn as sns\n",
    "from math import ceil\n",
    "from statsmodels.stats.proportion import proportion_confint\n",
    "%matplotlib inline\n",
    "# upload the Database\n",
    "titanic = pd.read_csv('titanic.csv')\n",
    "titanic"
   ]
  },
  {
   "cell_type": "code",
   "execution_count": 323,
   "id": "79837912-f40b-45a0-91ae-57f2bd4d2bd4",
   "metadata": {},
   "outputs": [
    {
     "data": {
      "text/html": [
       "<div>\n",
       "<style scoped>\n",
       "    .dataframe tbody tr th:only-of-type {\n",
       "        vertical-align: middle;\n",
       "    }\n",
       "\n",
       "    .dataframe tbody tr th {\n",
       "        vertical-align: top;\n",
       "    }\n",
       "\n",
       "    .dataframe thead th {\n",
       "        text-align: right;\n",
       "    }\n",
       "</style>\n",
       "<table border=\"1\" class=\"dataframe\">\n",
       "  <thead>\n",
       "    <tr style=\"text-align: right;\">\n",
       "      <th></th>\n",
       "      <th>Name</th>\n",
       "      <th>PClass</th>\n",
       "      <th>Age</th>\n",
       "      <th>Sex</th>\n",
       "      <th>Survived</th>\n",
       "      <th>SexCode</th>\n",
       "    </tr>\n",
       "    <tr>\n",
       "      <th>PassengerID</th>\n",
       "      <th></th>\n",
       "      <th></th>\n",
       "      <th></th>\n",
       "      <th></th>\n",
       "      <th></th>\n",
       "      <th></th>\n",
       "    </tr>\n",
       "  </thead>\n",
       "  <tbody>\n",
       "    <tr>\n",
       "      <th>1</th>\n",
       "      <td>Allen, Miss Elisabeth Walton</td>\n",
       "      <td>1st</td>\n",
       "      <td>29.00</td>\n",
       "      <td>female</td>\n",
       "      <td>1</td>\n",
       "      <td>1</td>\n",
       "    </tr>\n",
       "    <tr>\n",
       "      <th>2</th>\n",
       "      <td>Allison, Miss Helen Loraine</td>\n",
       "      <td>1st</td>\n",
       "      <td>2.00</td>\n",
       "      <td>female</td>\n",
       "      <td>0</td>\n",
       "      <td>1</td>\n",
       "    </tr>\n",
       "    <tr>\n",
       "      <th>3</th>\n",
       "      <td>Allison, Mr Hudson Joshua Creighton</td>\n",
       "      <td>1st</td>\n",
       "      <td>30.00</td>\n",
       "      <td>male</td>\n",
       "      <td>0</td>\n",
       "      <td>0</td>\n",
       "    </tr>\n",
       "    <tr>\n",
       "      <th>4</th>\n",
       "      <td>Allison, Mrs Hudson JC (Bessie Waldo Daniels)</td>\n",
       "      <td>1st</td>\n",
       "      <td>25.00</td>\n",
       "      <td>female</td>\n",
       "      <td>0</td>\n",
       "      <td>1</td>\n",
       "    </tr>\n",
       "    <tr>\n",
       "      <th>5</th>\n",
       "      <td>Allison, Master Hudson Trevor</td>\n",
       "      <td>1st</td>\n",
       "      <td>0.92</td>\n",
       "      <td>male</td>\n",
       "      <td>1</td>\n",
       "      <td>0</td>\n",
       "    </tr>\n",
       "    <tr>\n",
       "      <th>...</th>\n",
       "      <td>...</td>\n",
       "      <td>...</td>\n",
       "      <td>...</td>\n",
       "      <td>...</td>\n",
       "      <td>...</td>\n",
       "      <td>...</td>\n",
       "    </tr>\n",
       "    <tr>\n",
       "      <th>1309</th>\n",
       "      <td>Zakarian, Mr Artun</td>\n",
       "      <td>3rd</td>\n",
       "      <td>27.00</td>\n",
       "      <td>male</td>\n",
       "      <td>0</td>\n",
       "      <td>0</td>\n",
       "    </tr>\n",
       "    <tr>\n",
       "      <th>1310</th>\n",
       "      <td>Zakarian, Mr Maprieder</td>\n",
       "      <td>3rd</td>\n",
       "      <td>26.00</td>\n",
       "      <td>male</td>\n",
       "      <td>0</td>\n",
       "      <td>0</td>\n",
       "    </tr>\n",
       "    <tr>\n",
       "      <th>1311</th>\n",
       "      <td>Zenni, Mr Philip</td>\n",
       "      <td>3rd</td>\n",
       "      <td>22.00</td>\n",
       "      <td>male</td>\n",
       "      <td>0</td>\n",
       "      <td>0</td>\n",
       "    </tr>\n",
       "    <tr>\n",
       "      <th>1312</th>\n",
       "      <td>Lievens, Mr Rene</td>\n",
       "      <td>3rd</td>\n",
       "      <td>24.00</td>\n",
       "      <td>male</td>\n",
       "      <td>0</td>\n",
       "      <td>0</td>\n",
       "    </tr>\n",
       "    <tr>\n",
       "      <th>1313</th>\n",
       "      <td>Zimmerman, Leo</td>\n",
       "      <td>3rd</td>\n",
       "      <td>29.00</td>\n",
       "      <td>male</td>\n",
       "      <td>0</td>\n",
       "      <td>0</td>\n",
       "    </tr>\n",
       "  </tbody>\n",
       "</table>\n",
       "<p>1313 rows × 6 columns</p>\n",
       "</div>"
      ],
      "text/plain": [
       "                                                      Name PClass    Age  \\\n",
       "PassengerID                                                                \n",
       "1                             Allen, Miss Elisabeth Walton    1st  29.00   \n",
       "2                              Allison, Miss Helen Loraine    1st   2.00   \n",
       "3                      Allison, Mr Hudson Joshua Creighton    1st  30.00   \n",
       "4            Allison, Mrs Hudson JC (Bessie Waldo Daniels)    1st  25.00   \n",
       "5                            Allison, Master Hudson Trevor    1st   0.92   \n",
       "...                                                    ...    ...    ...   \n",
       "1309                                    Zakarian, Mr Artun    3rd  27.00   \n",
       "1310                                Zakarian, Mr Maprieder    3rd  26.00   \n",
       "1311                                      Zenni, Mr Philip    3rd  22.00   \n",
       "1312                                      Lievens, Mr Rene    3rd  24.00   \n",
       "1313                                        Zimmerman, Leo    3rd  29.00   \n",
       "\n",
       "                Sex  Survived  SexCode  \n",
       "PassengerID                             \n",
       "1            female         1        1  \n",
       "2            female         0        1  \n",
       "3              male         0        0  \n",
       "4            female         0        1  \n",
       "5              male         1        0  \n",
       "...             ...       ...      ...  \n",
       "1309           male         0        0  \n",
       "1310           male         0        0  \n",
       "1311           male         0        0  \n",
       "1312           male         0        0  \n",
       "1313           male         0        0  \n",
       "\n",
       "[1313 rows x 6 columns]"
      ]
     },
     "execution_count": 323,
     "metadata": {},
     "output_type": "execute_result"
    }
   ],
   "source": [
    "# it's better to interpret \"PassengerID\" as a database's \"id\"\n",
    "titanic = titanic.set_index('PassengerID')\n",
    "titanic"
   ]
  },
  {
   "cell_type": "markdown",
   "id": "e52243a2-6b15-4478-9a02-d41f2a75c99c",
   "metadata": {},
   "source": [
    "If a grouping by \"Survived\" is made, we can see a ratio of survivors to the drowned."
   ]
  },
  {
   "cell_type": "code",
   "execution_count": 325,
   "id": "edfcc5bf-fa3e-4157-a257-1c56ca6e5daf",
   "metadata": {},
   "outputs": [
    {
     "data": {
      "text/plain": [
       "Survived\n",
       "0    863\n",
       "1    450\n",
       "Name: Name, dtype: int64"
      ]
     },
     "execution_count": 325,
     "metadata": {},
     "output_type": "execute_result"
    }
   ],
   "source": [
    "titanic_all = titanic.groupby('Survived')['Name'].count()\n",
    "titanic_all"
   ]
  },
  {
   "cell_type": "markdown",
   "id": "7dc42716-5edc-409b-8414-91b7cc7b9baf",
   "metadata": {},
   "source": [
    "It is seen that only around third part has survived. "
   ]
  },
  {
   "cell_type": "code",
   "execution_count": 326,
   "id": "1006808f-9ad8-4825-b899-98a742c2cc6a",
   "metadata": {},
   "outputs": [
    {
     "data": {
      "text/plain": [
       "PassengerID\n",
       "1       1\n",
       "2       0\n",
       "3       0\n",
       "4       0\n",
       "5       1\n",
       "       ..\n",
       "1309    0\n",
       "1310    0\n",
       "1311    0\n",
       "1312    0\n",
       "1313    0\n",
       "Name: Survived, Length: 1313, dtype: int64"
      ]
     },
     "execution_count": 326,
     "metadata": {},
     "output_type": "execute_result"
    }
   ],
   "source": [
    "t_Survived = titanic['Survived']\n",
    "t_Survived"
   ]
  },
  {
   "cell_type": "markdown",
   "id": "06b339a4-83e1-48e1-8d53-6fbaafc0bdb3",
   "metadata": {},
   "source": [
    "But, let's compute a probability of survival, which is equal to an math expectation (mu), and it is standard deviation (sigma)."
   ]
  },
  {
   "cell_type": "code",
   "execution_count": 327,
   "id": "c9121358-64a9-48b2-8353-53e795b17430",
   "metadata": {},
   "outputs": [
    {
     "data": {
      "text/plain": [
       "(0.3427265803503427, 0.4746209766452625)"
      ]
     },
     "execution_count": 327,
     "metadata": {},
     "output_type": "execute_result"
    }
   ],
   "source": [
    "def t_stats(Survived):\n",
    "    mean = Survived.mean()\n",
    "    std = np.std(Survived, ddof=0)\n",
    "    return mean, std\n",
    "mu, sigma = t_stats(t_Survived)\n",
    "mu, sigma"
   ]
  },
  {
   "cell_type": "markdown",
   "id": "1251591c-6174-47d7-a9eb-0c26d99ea4d7",
   "metadata": {},
   "source": [
    "<p>So, now it's time to make hypothesis of the research:</p>\n",
    "<ul>\n",
    "    <li>(H<sub>0</sub>) - there is no difference between total survivors and survivors of any distinct age. i.e. an age does not influence survival.</li> \n",
    "    <li>(H<sub>1</sub>) - there is difference between total survivors and survivors of some distinct age. i.e. an age influences survival</li>\n",
    "</ul>\n",
    "<p>Unfortunately, not all information about the age of passengers has been found. <br>To make more accurate calculations let's drop rows with an indeterminate age.<p>\n",
    "    \n"
   ]
  },
  {
   "cell_type": "code",
   "execution_count": 328,
   "id": "c3f71c39-c9bf-49e1-8a16-d88fd6a202ab",
   "metadata": {},
   "outputs": [
    {
     "data": {
      "text/html": [
       "<div>\n",
       "<style scoped>\n",
       "    .dataframe tbody tr th:only-of-type {\n",
       "        vertical-align: middle;\n",
       "    }\n",
       "\n",
       "    .dataframe tbody tr th {\n",
       "        vertical-align: top;\n",
       "    }\n",
       "\n",
       "    .dataframe thead th {\n",
       "        text-align: right;\n",
       "    }\n",
       "</style>\n",
       "<table border=\"1\" class=\"dataframe\">\n",
       "  <thead>\n",
       "    <tr style=\"text-align: right;\">\n",
       "      <th></th>\n",
       "      <th>Name</th>\n",
       "      <th>PClass</th>\n",
       "      <th>Age</th>\n",
       "      <th>Sex</th>\n",
       "      <th>Survived</th>\n",
       "      <th>SexCode</th>\n",
       "    </tr>\n",
       "    <tr>\n",
       "      <th>PassengerID</th>\n",
       "      <th></th>\n",
       "      <th></th>\n",
       "      <th></th>\n",
       "      <th></th>\n",
       "      <th></th>\n",
       "      <th></th>\n",
       "    </tr>\n",
       "  </thead>\n",
       "  <tbody>\n",
       "    <tr>\n",
       "      <th>1</th>\n",
       "      <td>Allen, Miss Elisabeth Walton</td>\n",
       "      <td>1st</td>\n",
       "      <td>29.00</td>\n",
       "      <td>female</td>\n",
       "      <td>1</td>\n",
       "      <td>1</td>\n",
       "    </tr>\n",
       "    <tr>\n",
       "      <th>2</th>\n",
       "      <td>Allison, Miss Helen Loraine</td>\n",
       "      <td>1st</td>\n",
       "      <td>2.00</td>\n",
       "      <td>female</td>\n",
       "      <td>0</td>\n",
       "      <td>1</td>\n",
       "    </tr>\n",
       "    <tr>\n",
       "      <th>3</th>\n",
       "      <td>Allison, Mr Hudson Joshua Creighton</td>\n",
       "      <td>1st</td>\n",
       "      <td>30.00</td>\n",
       "      <td>male</td>\n",
       "      <td>0</td>\n",
       "      <td>0</td>\n",
       "    </tr>\n",
       "    <tr>\n",
       "      <th>4</th>\n",
       "      <td>Allison, Mrs Hudson JC (Bessie Waldo Daniels)</td>\n",
       "      <td>1st</td>\n",
       "      <td>25.00</td>\n",
       "      <td>female</td>\n",
       "      <td>0</td>\n",
       "      <td>1</td>\n",
       "    </tr>\n",
       "    <tr>\n",
       "      <th>5</th>\n",
       "      <td>Allison, Master Hudson Trevor</td>\n",
       "      <td>1st</td>\n",
       "      <td>0.92</td>\n",
       "      <td>male</td>\n",
       "      <td>1</td>\n",
       "      <td>0</td>\n",
       "    </tr>\n",
       "    <tr>\n",
       "      <th>...</th>\n",
       "      <td>...</td>\n",
       "      <td>...</td>\n",
       "      <td>...</td>\n",
       "      <td>...</td>\n",
       "      <td>...</td>\n",
       "      <td>...</td>\n",
       "    </tr>\n",
       "    <tr>\n",
       "      <th>1309</th>\n",
       "      <td>Zakarian, Mr Artun</td>\n",
       "      <td>3rd</td>\n",
       "      <td>27.00</td>\n",
       "      <td>male</td>\n",
       "      <td>0</td>\n",
       "      <td>0</td>\n",
       "    </tr>\n",
       "    <tr>\n",
       "      <th>1310</th>\n",
       "      <td>Zakarian, Mr Maprieder</td>\n",
       "      <td>3rd</td>\n",
       "      <td>26.00</td>\n",
       "      <td>male</td>\n",
       "      <td>0</td>\n",
       "      <td>0</td>\n",
       "    </tr>\n",
       "    <tr>\n",
       "      <th>1311</th>\n",
       "      <td>Zenni, Mr Philip</td>\n",
       "      <td>3rd</td>\n",
       "      <td>22.00</td>\n",
       "      <td>male</td>\n",
       "      <td>0</td>\n",
       "      <td>0</td>\n",
       "    </tr>\n",
       "    <tr>\n",
       "      <th>1312</th>\n",
       "      <td>Lievens, Mr Rene</td>\n",
       "      <td>3rd</td>\n",
       "      <td>24.00</td>\n",
       "      <td>male</td>\n",
       "      <td>0</td>\n",
       "      <td>0</td>\n",
       "    </tr>\n",
       "    <tr>\n",
       "      <th>1313</th>\n",
       "      <td>Zimmerman, Leo</td>\n",
       "      <td>3rd</td>\n",
       "      <td>29.00</td>\n",
       "      <td>male</td>\n",
       "      <td>0</td>\n",
       "      <td>0</td>\n",
       "    </tr>\n",
       "  </tbody>\n",
       "</table>\n",
       "<p>756 rows × 6 columns</p>\n",
       "</div>"
      ],
      "text/plain": [
       "                                                      Name PClass    Age  \\\n",
       "PassengerID                                                                \n",
       "1                             Allen, Miss Elisabeth Walton    1st  29.00   \n",
       "2                              Allison, Miss Helen Loraine    1st   2.00   \n",
       "3                      Allison, Mr Hudson Joshua Creighton    1st  30.00   \n",
       "4            Allison, Mrs Hudson JC (Bessie Waldo Daniels)    1st  25.00   \n",
       "5                            Allison, Master Hudson Trevor    1st   0.92   \n",
       "...                                                    ...    ...    ...   \n",
       "1309                                    Zakarian, Mr Artun    3rd  27.00   \n",
       "1310                                Zakarian, Mr Maprieder    3rd  26.00   \n",
       "1311                                      Zenni, Mr Philip    3rd  22.00   \n",
       "1312                                      Lievens, Mr Rene    3rd  24.00   \n",
       "1313                                        Zimmerman, Leo    3rd  29.00   \n",
       "\n",
       "                Sex  Survived  SexCode  \n",
       "PassengerID                             \n",
       "1            female         1        1  \n",
       "2            female         0        1  \n",
       "3              male         0        0  \n",
       "4            female         0        1  \n",
       "5              male         1        0  \n",
       "...             ...       ...      ...  \n",
       "1309           male         0        0  \n",
       "1310           male         0        0  \n",
       "1311           male         0        0  \n",
       "1312           male         0        0  \n",
       "1313           male         0        0  \n",
       "\n",
       "[756 rows x 6 columns]"
      ]
     },
     "execution_count": 328,
     "metadata": {},
     "output_type": "execute_result"
    }
   ],
   "source": [
    "titanic = titanic[titanic['Age'].notnull()]\n",
    "titanic"
   ]
  },
  {
   "cell_type": "markdown",
   "id": "c816c4ab-b53b-40d8-b64a-483f1ec091df",
   "metadata": {},
   "source": [
    "Now, since we have just a half of a total number of passengers it is better to take an age range instead of a certain age: "
   ]
  },
  {
   "cell_type": "code",
   "execution_count": 330,
   "id": "1a4126b0-58c2-423c-8b11-70c10c9cde6b",
   "metadata": {},
   "outputs": [],
   "source": [
    "def titanic_age(min_age = None, max_age=None):\n",
    "    if max_age == None and min_age >=0:\n",
    "        set_value = titanic[(titanic['Age'] >= min_age)]['Survived'] \n",
    "    elif min_age == None:\n",
    "        set_value = titanic[(titanic['Age'] <= max_age)]['Survived'] \n",
    "    elif min_age>=0:\n",
    "        set_value = titanic[(titanic['Age'] <= max_age) & (titanic['Age']>=min_age)]['Survived']\n",
    "    else:\n",
    "        Error = \"Age Error\"\n",
    "    return set_value"
   ]
  },
  {
   "cell_type": "markdown",
   "id": "4cf3c176-6400-480e-9f49-02ccb0f1ee36",
   "metadata": {},
   "source": [
    "That function allows us to enter an age range which we want to explore. As an example minor children of 0-18 were taken."
   ]
  },
  {
   "cell_type": "code",
   "execution_count": 332,
   "id": "7a14e032-63ee-4408-b0ad-1034ccd3bf5c",
   "metadata": {},
   "outputs": [
    {
     "data": {
      "text/plain": [
       "126"
      ]
     },
     "execution_count": 332,
     "metadata": {},
     "output_type": "execute_result"
    }
   ],
   "source": [
    "Age = titanic_age(0, 18)\n",
    "len(Age)"
   ]
  },
  {
   "cell_type": "code",
   "execution_count": 333,
   "id": "c1f55879-0f31-4a0b-bbcc-6573701c61bd",
   "metadata": {},
   "outputs": [
    {
     "data": {
      "text/plain": [
       "(0.5476190476190477, 0.497727260961116)"
      ]
     },
     "execution_count": 333,
     "metadata": {},
     "output_type": "execute_result"
    }
   ],
   "source": [
    "mean, std = t_stats(Age)\n",
    "mean, std"
   ]
  },
  {
   "cell_type": "markdown",
   "id": "08662228-e343-442d-8c8a-6b569b2101ab",
   "metadata": {},
   "source": [
    "126 children have been on a board and only 55% has survived. That's quite more than total probability of surviving - 34%. it is seen that effect size quite high, but can we say that difference is statistically significant? To verify it let's compute a minimum required sample taking alpha=0.1:"
   ]
  },
  {
   "cell_type": "code",
   "execution_count": 334,
   "id": "16458344-997a-4955-98a8-f974b055e1b7",
   "metadata": {},
   "outputs": [
    {
     "data": {
      "text/plain": [
       "72"
      ]
     },
     "execution_count": 334,
     "metadata": {},
     "output_type": "execute_result"
    }
   ],
   "source": [
    "def required_n(mu, mean):\n",
    "    effect_size = sms.proportion_effectsize(mu, mean)    \n",
    "    required_n = sms.NormalIndPower().solve_power(effect_size, power=0.8, alpha=0.1, ratio=1)       \n",
    "    return ceil(required_n)\n",
    "required_n(mu, mean)"
   ]
  },
  {
   "cell_type": "markdown",
   "id": "e334519b-83ea-4891-92e3-acd479be67b0",
   "metadata": {},
   "source": [
    "Since 126 > 72, it is possible to assume that we will get an accurete result of the research for this sample. Let's move to the calculations of p-value and z-statistics:"
   ]
  },
  {
   "cell_type": "code",
   "execution_count": 335,
   "id": "2c2193ea-e420-4e04-9b9d-0a4a387a1f61",
   "metadata": {},
   "outputs": [
    {
     "data": {
      "text/plain": [
       "(4.845787173603679, 1.261106497896236e-06)"
      ]
     },
     "execution_count": 335,
     "metadata": {},
     "output_type": "execute_result"
    }
   ],
   "source": [
    "def function_of_z_p(x, n, mu=0, sigma=1):\n",
    "    global Normal\n",
    "    z = abs((x - mu)/(sigma/n**0.5))\n",
    "    Normal = stats.norm()\n",
    "    p = 1 - (Normal.cdf(z) - Normal.cdf(-z))\n",
    "    return z, p\n",
    "z, p = function_of_z_p(mean, len(Age), mu, sigma)\n",
    "z, p \n"
   ]
  },
  {
   "cell_type": "markdown",
   "id": "b518505d-6ce1-4505-b802-a3a06dfa1747",
   "metadata": {},
   "source": [
    "Plot a graph of z-ststistics:"
   ]
  },
  {
   "cell_type": "code",
   "execution_count": 263,
   "id": "31fcdd41-c498-46e5-93da-b74628b03d04",
   "metadata": {},
   "outputs": [
    {
     "data": {
      "image/png": "[encoded data removed]",
      "text/plain": [
       "<Figure size 640x480 with 1 Axes>"
      ]
     },
     "metadata": {},
     "output_type": "display_data"
    }
   ],
   "source": [
    "def graph_of_z_p(z, p):\n",
    "    fig, ax = plt.subplots()\n",
    "    x = np.linspace(Normal.ppf(0.0001), Normal.ppf(0.9999), 300)\n",
    "    ax.plot(x, Normal.pdf(x))\n",
    "    ax.hlines(0, x.min(), x.max(), color='k')\n",
    "    ax.vlines([-z, z], 0, 0.4, color='r')\n",
    "    x_less_z, x_more_z = x[x<-z], x[x>z]\n",
    "    ax.fill_between(x_less_z, Normal.pdf(x_less_z), np.zeros(len(x_less_z)), alpha=0.3, color='b')\n",
    "    ax.fill_between(x_more_z, Normal.pdf(x_more_z), np.zeros(len(x_more_z)), alpha=0.3, color='b')\n",
    "    ax.set_title('P({:.2} < z < {:.2}) = {:.2}'.format(-z, z, p)); \n",
    "graph_of_z_p(z, p)"
   ]
  },
  {
   "cell_type": "markdown",
   "id": "20234017-b797-4b8b-8d11-919935f177ce",
   "metadata": {},
   "source": [
    "<p>As it is seen from the graph p-value less than alpha and tends to 0 which means that our 55% of survival is statisticaly significant and (H<sub>0</sub>) for minor children can be rejected.</p> \n",
    "We can also compute confidence interval of 90%:\n"
   ]
  },
  {
   "cell_type": "code",
   "execution_count": 336,
   "id": "4e5979a3-7f28-4bfe-8f8e-1d3f5f77debf",
   "metadata": {},
   "outputs": [
    {
     "data": {
      "text/plain": [
       "array([0.475, 0.621])"
      ]
     },
     "execution_count": 336,
     "metadata": {},
     "output_type": "execute_result"
    }
   ],
   "source": [
    "def confidence_interval(Age):\n",
    "    success = Age.sum()\n",
    "    nobs = Age.count()\n",
    "    CI = proportion_confint(success, nobs = nobs, alpha=0.1)\n",
    "    return np.round(CI, 3)\n",
    "confidence_interval(Age)"
   ]
  },
  {
   "cell_type": "markdown",
   "id": "aecee849-c99f-4ebb-b560-b338d220dab1",
   "metadata": {},
   "source": [
    "The values of confidence interval approve that math expectation (mu) of population is not included inside, that means we rejected (H<sub>0</sub>) correctly."
   ]
  },
  {
   "cell_type": "markdown",
   "id": "2fe872be-eee0-4564-8247-85c458929666",
   "metadata": {},
   "source": [
    "Maybe, if we take another age range the results will be different? As an example retired people were considered. "
   ]
  },
  {
   "cell_type": "code",
   "execution_count": 338,
   "id": "14b091fa-09ce-4bfc-aae4-0372ff2dfb0f",
   "metadata": {},
   "outputs": [
    {
     "name": "stdout",
     "output_type": "stream",
     "text": [
      "N = 27, mean = 0.333, std = 0.471, required_N = 31356, p = 0.9180920952446923, CI = [0.184 0.483], z = 0.10283730733838893\n"
     ]
    }
   ],
   "source": [
    "def age(min_age = None, max_age=None):\n",
    "    f = titanic_age(min_age, max_age)\n",
    "    CI = confidence_interval(f)\n",
    "    mean, std = t_stats(f)\n",
    "    N = len(f)\n",
    "    required_N = required_n(mu, mean)\n",
    "    z, p = function_of_z_p(mean, N, mu, sigma)\n",
    "    return N, np.round(mean, 3), np.round(std, 3), required_N, p, CI, z\n",
    "age_retired = age(60, None)\n",
    "print(f'N = {age_retired[0]}, mean = {age_retired[1]}, std = {age_retired[2]}, required_N = {age_retired[3]}, p = {age_retired[4]}, CI = {age_retired[5]}, z = {age_retired[6]}')"
   ]
  },
  {
   "cell_type": "code",
   "execution_count": 339,
   "id": "a57859e6-e141-47e7-8daa-429ef9c79c03",
   "metadata": {},
   "outputs": [
    {
     "data": {
      "image/png": "[encoded data removed]",
      "text/plain": [
       "<Figure size 640x480 with 1 Axes>"
      ]
     },
     "metadata": {},
     "output_type": "display_data"
    }
   ],
   "source": [
    "graph_of_z_p(age_retired[6], age_retired[4])"
   ]
  },
  {
   "cell_type": "markdown",
   "id": "89c7c4c7-d1bc-422e-8ca6-c913859ca0af",
   "metadata": {},
   "source": [
    "<p>As it is seen from the graph p-value of a retired people sample much higher than alpha.</p><p> But we all so can see that a number of our sample is not as much as required one (27 against 31356).</p> <p> We assume that if we had got 31356 people for our sample the results could have been statisticaly significant. But since (mean) of ritered people &asymp; (mu) of population it is possible to make a statement that we have one of many random samples and definetely can not reject (H<sub>0</sub>)</p>"
   ]
  },
  {
   "cell_type": "markdown",
   "id": "9b45e6af-e390-4c6b-ab19-7481b5774487",
   "metadata": {},
   "source": [
    "It is possilbe to apply this research to any type age range. Let's take the most interesting ones. "
   ]
  },
  {
   "cell_type": "code",
   "execution_count": 340,
   "id": "85839a93-7b8f-4b06-b811-bb94ea9194b7",
   "metadata": {},
   "outputs": [
    {
     "data": {
      "text/html": [
       "<div>\n",
       "<style scoped>\n",
       "    .dataframe tbody tr th:only-of-type {\n",
       "        vertical-align: middle;\n",
       "    }\n",
       "\n",
       "    .dataframe tbody tr th {\n",
       "        vertical-align: top;\n",
       "    }\n",
       "\n",
       "    .dataframe thead th {\n",
       "        text-align: right;\n",
       "    }\n",
       "</style>\n",
       "<table border=\"1\" class=\"dataframe\">\n",
       "  <thead>\n",
       "    <tr style=\"text-align: right;\">\n",
       "      <th></th>\n",
       "      <th>Number of People</th>\n",
       "      <th>Probability of Survivig</th>\n",
       "      <th>Standard deviation</th>\n",
       "      <th>Required N</th>\n",
       "      <th>P-value</th>\n",
       "      <th>Confidence interval</th>\n",
       "    </tr>\n",
       "  </thead>\n",
       "  <tbody>\n",
       "    <tr>\n",
       "      <th>0-4</th>\n",
       "      <td>33</td>\n",
       "      <td>0.788</td>\n",
       "      <td>0.409</td>\n",
       "      <td>15</td>\n",
       "      <td>0.000</td>\n",
       "      <td>[0.671, 0.905]</td>\n",
       "    </tr>\n",
       "    <tr>\n",
       "      <th>12-16</th>\n",
       "      <td>25</td>\n",
       "      <td>0.560</td>\n",
       "      <td>0.496</td>\n",
       "      <td>64</td>\n",
       "      <td>0.022</td>\n",
       "      <td>[0.397, 0.723]</td>\n",
       "    </tr>\n",
       "    <tr>\n",
       "      <th>0-18</th>\n",
       "      <td>126</td>\n",
       "      <td>0.548</td>\n",
       "      <td>0.498</td>\n",
       "      <td>72</td>\n",
       "      <td>0.000</td>\n",
       "      <td>[0.475, 0.621]</td>\n",
       "    </tr>\n",
       "    <tr>\n",
       "      <th>18-30</th>\n",
       "      <td>336</td>\n",
       "      <td>0.342</td>\n",
       "      <td>0.474</td>\n",
       "      <td>12895219</td>\n",
       "      <td>0.986</td>\n",
       "      <td>[0.3, 0.385]</td>\n",
       "    </tr>\n",
       "    <tr>\n",
       "      <th>30-45</th>\n",
       "      <td>235</td>\n",
       "      <td>0.409</td>\n",
       "      <td>0.492</td>\n",
       "      <td>669</td>\n",
       "      <td>0.034</td>\n",
       "      <td>[0.356, 0.461]</td>\n",
       "    </tr>\n",
       "    <tr>\n",
       "      <th>18-45</th>\n",
       "      <td>540</td>\n",
       "      <td>0.376</td>\n",
       "      <td>0.484</td>\n",
       "      <td>2582</td>\n",
       "      <td>0.104</td>\n",
       "      <td>[0.342, 0.41]</td>\n",
       "    </tr>\n",
       "    <tr>\n",
       "      <th>30-60</th>\n",
       "      <td>333</td>\n",
       "      <td>0.429</td>\n",
       "      <td>0.495</td>\n",
       "      <td>389</td>\n",
       "      <td>0.001</td>\n",
       "      <td>[0.385, 0.474]</td>\n",
       "    </tr>\n",
       "    <tr>\n",
       "      <th>45-60</th>\n",
       "      <td>118</td>\n",
       "      <td>0.492</td>\n",
       "      <td>0.500</td>\n",
       "      <td>135</td>\n",
       "      <td>0.001</td>\n",
       "      <td>[0.416, 0.567]</td>\n",
       "    </tr>\n",
       "    <tr>\n",
       "      <th>60-None</th>\n",
       "      <td>27</td>\n",
       "      <td>0.333</td>\n",
       "      <td>0.471</td>\n",
       "      <td>31356</td>\n",
       "      <td>0.918</td>\n",
       "      <td>[0.184, 0.483]</td>\n",
       "    </tr>\n",
       "  </tbody>\n",
       "</table>\n",
       "</div>"
      ],
      "text/plain": [
       "         Number of People  Probability of Survivig  Standard deviation  \\\n",
       "0-4                    33                    0.788               0.409   \n",
       "12-16                  25                    0.560               0.496   \n",
       "0-18                  126                    0.548               0.498   \n",
       "18-30                 336                    0.342               0.474   \n",
       "30-45                 235                    0.409               0.492   \n",
       "18-45                 540                    0.376               0.484   \n",
       "30-60                 333                    0.429               0.495   \n",
       "45-60                 118                    0.492               0.500   \n",
       "60-None                27                    0.333               0.471   \n",
       "\n",
       "         Required N  P-value Confidence interval  \n",
       "0-4              15    0.000      [0.671, 0.905]  \n",
       "12-16            64    0.022      [0.397, 0.723]  \n",
       "0-18             72    0.000      [0.475, 0.621]  \n",
       "18-30      12895219    0.986        [0.3, 0.385]  \n",
       "30-45           669    0.034      [0.356, 0.461]  \n",
       "18-45          2582    0.104       [0.342, 0.41]  \n",
       "30-60           389    0.001      [0.385, 0.474]  \n",
       "45-60           135    0.001      [0.416, 0.567]  \n",
       "60-None       31356    0.918      [0.184, 0.483]  "
      ]
     },
     "execution_count": 340,
     "metadata": {},
     "output_type": "execute_result"
    }
   ],
   "source": [
    "Min_Age = [0, 12, 0, 18, 30, 18, 30, 45, 60]\n",
    "Max_Age = [4, 16, 18, 30, 45, 45, 60, 60, None]\n",
    "Range_of_Age_to_survive = pd.DataFrame( columns = ['Number of People', 'Probability of Survivig', 'Standard deviation', 'Required N', 'P-value', 'Confidence interval'])\n",
    "for Min, Max in zip(Min_Age, Max_Age):\n",
    "    N, mean, std, required, p, Ci, z = age(Min, Max)\n",
    "    p = np.round(p, 3)\n",
    "    Range_of_Age = f'{Min}-{Max}'\n",
    "    Range_of_Age_to_survive.loc[Range_of_Age] = [N, mean, std, required, p, Ci]\n",
    "Range_of_Age_to_survive\n",
    "    "
   ]
  },
  {
   "cell_type": "markdown",
   "id": "39038c98-6b39-47ac-9665-5f53a01af63f",
   "metadata": {},
   "source": [
    "<strong>Conclusions:</strong> The table above shows that the probability of samples: \n",
    "<ul>\n",
    "    <li>0-4, 0-18 age is definitely statistically significant;</li>\n",
    "    <li>12-16, 30-45, 30-60, 45-60 looks like statistically significant, but if we had had appropriate (Required N) we would have been more specific;</li>\n",
    "    <li>18-30, 60 - None is not statistically significant;</li>\n",
    "    <li>18-45 can not be corrctly iterpreted because its boarder of p-value is very near to alpha without appropriate (required N).</li>\n",
    "<u>\n",
    "    <p>Despite not all ranges of age have a ststistically significant probability, the hypothesis was if an age inluences survival. Due to the research approve that survival depends on age <b>H<sub>0</sub></b> should be <b>rejected</b>.</p>"
   ]
  },
  {
   "cell_type": "code",
   "execution_count": 104,
   "id": "0f755016-3a56-412e-bb6e-c519e9a781d3",
   "metadata": {},
   "outputs": [],
   "source": []
  },
  {
   "cell_type": "code",
   "execution_count": null,
   "id": "d9ddd275-794b-4ca0-9259-dab34df721b6",
   "metadata": {},
   "outputs": [],
   "source": []
  },
  {
   "cell_type": "code",
   "execution_count": null,
   "id": "499fe98b-d88d-4399-a40f-be6e6f4db16c",
   "metadata": {},
   "outputs": [],
   "source": []
  },
  {
   "cell_type": "code",
   "execution_count": null,
   "id": "2b3b63b5-2003-4710-8890-8470aff6f335",
   "metadata": {},
   "outputs": [],
   "source": []
  },
  {
   "cell_type": "code",
   "execution_count": null,
   "id": "e42300da-ae1f-4e8a-933b-656716bdd82d",
   "metadata": {},
   "outputs": [],
   "source": []
  },
  {
   "cell_type": "code",
   "execution_count": null,
   "id": "ee59f3a6-9596-4462-97d6-a3a484c5058e",
   "metadata": {},
   "outputs": [],
   "source": []
  },
  {
   "cell_type": "code",
   "execution_count": null,
   "id": "05a094f6-21e3-43f6-b761-98573e58a3fe",
   "metadata": {},
   "outputs": [],
   "source": []
  },
  {
   "cell_type": "code",
   "execution_count": null,
   "id": "f9bcf0fa-5839-4a39-b4d9-f566bd047572",
   "metadata": {},
   "outputs": [],
   "source": []
  },
  {
   "cell_type": "code",
   "execution_count": null,
   "id": "d59ed824-8174-4e0d-b79b-5b54a56d1c43",
   "metadata": {},
   "outputs": [],
   "source": [
    "\n"
   ]
  }
 ],
 "metadata": {
  "kernelspec": {
   "display_name": "Python 3 (ipykernel)",
   "language": "python",
   "name": "python3"
  },
  "language_info": {
   "codemirror_mode": {
    "name": "ipython",
    "version": 3
   },
   "file_extension": ".py",
   "mimetype": "text/x-python",
   "name": "python",
   "nbconvert_exporter": "python",
   "pygments_lexer": "ipython3",
   "version": "3.9.13"
  }
 },
 "nbformat": 4,
 "nbformat_minor": 5
}
